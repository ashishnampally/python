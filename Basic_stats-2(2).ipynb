{
  "nbformat": 4,
  "nbformat_minor": 0,
  "metadata": {
    "colab": {
      "provenance": []
    },
    "kernelspec": {
      "name": "python3",
      "display_name": "Python 3"
    },
    "language_info": {
      "name": "python"
    }
  },
  "cells": [
    {
      "cell_type": "code",
      "execution_count": null,
      "metadata": {
        "id": "hr7VTy1aB7-d"
      },
      "outputs": [],
      "source": [
        "import numpy as np\n",
        "import scipy.stats as stats\n"
      ]
    },
    {
      "cell_type": "code",
      "source": [
        "data =[1.13, 1.55, 1.43, 0.92, 1.25, 1.36, 1.32, 0.85, 1.07, 1.48, 1.20, 1.33, 1.18, 1.22, 1.29]"
      ],
      "metadata": {
        "id": "OK5eJl_dD182"
      },
      "execution_count": null,
      "outputs": []
    },
    {
      "cell_type": "code",
      "source": [
        "sample_mean = np.mean(data)\n",
        "sample_std = np.std(data)\n",
        "sample_std_dev = np.std(data, ddof=1)\n",
        "n = len(data)"
      ],
      "metadata": {
        "id": "BMlocs4FEJzG"
      },
      "execution_count": null,
      "outputs": []
    },
    {
      "cell_type": "code",
      "source": [
        "confidence_level = 0.99\n",
        "alpha = 1 - confidence_level\n",
        "t_critical =stats.t.ppf(1 - alpha/2,df =n-1)\n",
        "margin_of_error_t = t_critical * (sample_std / np.sqrt(n))\n",
        "lower_bound_t = sample_mean - margin_of_error_t\n",
        "upper_bound_t= sample_mean + margin_of_error_t\n",
        "print(\"99% Confidence Interval using Ssample standard deviation:\")\n",
        "print(f\"mean:({sample_mean:.2f}, CI:( {lower_bound_t:.2f},{upper_bound_t:.2f})\")\n"
      ],
      "metadata": {
        "id": "qyao9QIYEkSp",
        "colab": {
          "base_uri": "https://localhost:8080/"
        },
        "outputId": "43552af7-3335-41a0-dfcb-20cf0a49fbb7"
      },
      "execution_count": null,
      "outputs": [
        {
          "output_type": "stream",
          "name": "stdout",
          "text": [
            "99% Confidence Interval using Ssample standard deviation:\n",
            "mean:(1.24, CI:( 1.10,1.38)\n"
          ]
        }
      ]
    },
    {
      "cell_type": "code",
      "source": [],
      "metadata": {
        "colab": {
          "base_uri": "https://localhost:8080/"
        },
        "id": "pYEXo86pFvhQ",
        "outputId": "ede3feb4-f339-485a-bb9d-7f963fc16360"
      },
      "execution_count": null,
      "outputs": [
        {
          "output_type": "stream",
          "name": "stdout",
          "text": [
            "99% Confidence Interval using Ssample standard deviation:\n",
            "mean:(1.24, CI:( 1.14,1.34)\n"
          ]
        }
      ]
    },
    {
      "cell_type": "code",
      "source": [
        "population_std_dev = 0.2\n",
        "z_critical = stats.norm.ppf(1 - alpha/2)\n",
        "margin_of_error_z = z_critical * (population_std_dev / np.sqrt(n))\n",
        "lower_bound_z = sample_mean - margin_of_error_z\n",
        "upper_bound_z = sample_mean + margin_of_error_z\n",
        "print(\"99% Confidence Interval using population standard deviation:\")\n",
        "print(f\"mean:({sample_mean:.2f}, CI:( {lower_bound_z:.2f},{upper_bound_z:.2f})\")"
      ],
      "metadata": {
        "id": "Yi05MDuvH-9e",
        "colab": {
          "base_uri": "https://localhost:8080/"
        },
        "outputId": "c5bfd1c5-f584-4b0a-f89b-cf0d0c39f128"
      },
      "execution_count": null,
      "outputs": [
        {
          "output_type": "stream",
          "name": "stdout",
          "text": [
            "99% Confidence Interval using population standard deviation:\n",
            "mean:(1.24, CI:( 1.11,1.37)\n"
          ]
        }
      ]
    },
    {
      "cell_type": "markdown",
      "source": [],
      "metadata": {
        "id": "HOymu7x5FL2g"
      }
    },
    {
      "cell_type": "markdown",
      "source": [],
      "metadata": {
        "id": "DhoOpJflIv8x"
      }
    },
    {
      "cell_type": "code",
      "source": [],
      "metadata": {
        "colab": {
          "base_uri": "https://localhost:8080/"
        },
        "id": "yiHn4E2bIbQl",
        "outputId": "23c70415-f62d-4c91-a685-add2b1cb519e"
      },
      "execution_count": null,
      "outputs": [
        {
          "output_type": "stream",
          "name": "stdout",
          "text": [
            "99% Confidence Interval using population standard deviation:\n",
            "mean:(1.24, CI:( 1.14,1.34)\n"
          ]
        }
      ]
    },
    {
      "cell_type": "code",
      "source": [],
      "metadata": {
        "id": "z7AdvnMZI4tX"
      },
      "execution_count": null,
      "outputs": []
    }
  ]
}